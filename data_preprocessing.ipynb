{
 "cells": [
  {
   "cell_type": "code",
   "execution_count": 1,
   "id": "822a4ad0",
   "metadata": {},
   "outputs": [
    {
     "name": "stdout",
     "output_type": "stream",
     "text": [
      "Training data shape: (2145, 64, 64, 1), Testing data shape: (537, 64, 64, 1)\n"
     ]
    }
   ],
   "source": [
    "import os\n",
    "import numpy as np\n",
    "import cv2\n",
    "from sklearn.model_selection import train_test_split\n",
    "\n",
    "# Define paths\n",
    "data_dir = 'dataset'\n",
    "categories = [chr(i) for i in range(65, 91)]  # 'A' to 'Z'\n",
    "categories.append('Space')  # Add space to categories\n",
    "\n",
    "# Function to load and preprocess data\n",
    "def load_data():\n",
    "    data = []\n",
    "    labels = []\n",
    "    \n",
    "    for category in categories:\n",
    "        path = os.path.join(data_dir, category)\n",
    "        class_num = categories.index(category)  # Assign a numeric label based on category\n",
    "\n",
    "        # Check if the directory exists\n",
    "        if not os.path.exists(path):\n",
    "            print(f\"No images found in {category} folder. Add images to continue.\")\n",
    "            continue\n",
    "\n",
    "        for img_name in os.listdir(path):\n",
    "            img_path = os.path.join(path, img_name)\n",
    "            img = cv2.imread(img_path, cv2.IMREAD_GRAYSCALE)\n",
    "            img = cv2.resize(img, (64, 64))  # Resize to 64x64\n",
    "            data.append(img)\n",
    "            labels.append(class_num)\n",
    "\n",
    "    # Convert lists to numpy arrays\n",
    "    data = np.array(data).reshape(-1, 64, 64, 1)  # Reshape for CNN input\n",
    "    labels = np.array(labels)\n",
    "\n",
    "    # Split data into training and testing sets\n",
    "    X_train, X_test, y_train, y_test = train_test_split(data, labels, test_size=0.2, random_state=42)\n",
    "    \n",
    "    print(f\"Training data shape: {X_train.shape}, Testing data shape: {X_test.shape}\")\n",
    "\n",
    "    return X_train, X_test, y_train, y_test\n",
    "\n",
    "# Example usage\n",
    "if __name__ == \"__main__\":\n",
    "    X_train, X_test, y_train, y_test = load_data()\n"
   ]
  },
  {
   "cell_type": "code",
   "execution_count": null,
   "id": "bfe896a9",
   "metadata": {},
   "outputs": [],
   "source": []
  }
 ],
 "metadata": {
  "kernelspec": {
   "display_name": "Python 3 (ipykernel)",
   "language": "python",
   "name": "python3"
  },
  "language_info": {
   "codemirror_mode": {
    "name": "ipython",
    "version": 3
   },
   "file_extension": ".py",
   "mimetype": "text/x-python",
   "name": "python",
   "nbconvert_exporter": "python",
   "pygments_lexer": "ipython3",
   "version": "3.11.5"
  }
 },
 "nbformat": 4,
 "nbformat_minor": 5
}
